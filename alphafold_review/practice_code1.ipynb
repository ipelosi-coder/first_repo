{
 "cells": [
  {
   "cell_type": "code",
   "execution_count": null,
   "id": "0d2ad9e4",
   "metadata": {},
   "outputs": [],
   "source": [
    "# Step 1: Define the value of pi and the initial radius of the circle\n",
    "pi = 3.14159\n",
    "radius = 2.2\n",
    "\n",
    "# Step 2: Calculate the area using the formula: area = pi * radius^2\n",
    "area = pi * (radius ** 2)\n",
    "\n",
    "# Step 3: Print the result\n",
    "print(\"Area of circle with radius\", radius, \"is:\", area)"
   ]
  },
  {
   "cell_type": "code",
   "execution_count": null,
   "id": "39a8c725",
   "metadata": {},
   "outputs": [],
   "source": [
    "# Now let's increase the radius by 1\n",
    "radius = radius + 1  # radius is now 3.2\n",
    "\n",
    "# Note: The area has not been recalculated yet!\n",
    "# Let's print the old area again and observe that it hasn't changed\n",
    "print(\"Area is still:\", area)  # This will show the old area\n",
    "\n",
    "# Recalculate the area with the new radius\n",
    "area = pi * (radius ** 2)\n",
    "\n",
    "# Print the new area\n",
    "print(\"New area after increasing radius to\", radius, \"is:\", area)\n"
   ]
  },
  {
   "cell_type": "code",
   "execution_count": null,
   "id": "7e6adfc7",
   "metadata": {},
   "outputs": [],
   "source": [
    "# In Jupyter, you can comment or uncomment multiple lines by selecting them\n",
    "# and pressing Ctrl + / (Windows/Linux) or Cmd + / (Mac)\n",
    "\n",
    "# Try uncommenting the lines below to re-run the area calculation:\n",
    "\n",
    "# area = pi * (radius ** 2)\n",
    "# print(\"Recalculated area:\", area)\n",
    "# radius = radius + 1\n",
    "# area = pi * (radius ** 2)\n",
    "# print(\"Area after increasing radius again:\", area)\n"
   ]
  },
  {
   "cell_type": "code",
   "execution_count": null,
   "id": "099e933e",
   "metadata": {},
   "outputs": [],
   "source": [
    "# Jupyter Notebooks also support autocomplete using the Tab key\n",
    "# Start typing a variable name, then press Tab to complete it\n",
    "\n",
    "a_very_long_variable_name_dont_name_them_this_long_pls = 0\n",
    "\n",
    "# Try typing 'a_very' and pressing Tab to autocomplete\n",
    "# Now update its value to 1\n",
    "a_very_long_variable_name_dont_name_them_this_long_pls = 1\n",
    "\n",
    "# Print the value using autocomplete again\n",
    "print(a_very_long_variable_name_dont_name_them_this_long_pls)\n"
   ]
  }
 ],
 "metadata": {
  "kernelspec": {
   "display_name": "Python 3 (ipykernel)",
   "language": "python",
   "name": "python3"
  },
  "language_info": {
   "codemirror_mode": {
    "name": "ipython",
    "version": 3
   },
   "file_extension": ".py",
   "mimetype": "text/x-python",
   "name": "python",
   "nbconvert_exporter": "python",
   "pygments_lexer": "ipython3",
   "version": "3.11.5"
  }
 },
 "nbformat": 4,
 "nbformat_minor": 5
}
